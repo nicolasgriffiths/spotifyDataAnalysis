{
 "cells": [
  {
   "cell_type": "code",
   "execution_count": 1,
   "metadata": {},
   "outputs": [],
   "source": [
    "from datetime import datetime\n",
    "import pandas as pd\n",
    "import time\n",
    "from tqdm.auto import tqdm\n",
    "import spotipy\n",
    "from spotipy.oauth2 import SpotifyClientCredentials\n",
    "\n",
    "# Insert your spotify credentials\n",
    "ID = ''\n",
    "SECRET = ''\n",
    "sp = spotipy.Spotify(client_credentials_manager=SpotifyClientCredentials(client_id=ID,\n",
    "                                                                         client_secret=SECRET))\n",
    "tqdm.pandas()"
   ]
  },
  {
   "cell_type": "code",
   "execution_count": 2,
   "metadata": {},
   "outputs": [],
   "source": [
    "# Import data\n",
    "json_paths = ['MyData/StreamingHistory0.json', 'MyData/StreamingHistory1.json'] # Insert your straming history files\n",
    "frame = pd.DataFrame()\n",
    "for path in json_paths:\n",
    "    frame = pd.concat([frame, pd.read_json(path)])"
   ]
  },
  {
   "cell_type": "code",
   "execution_count": 3,
   "metadata": {},
   "outputs": [
    {
     "name": "stdout",
     "output_type": "stream",
     "text": [
      "Original Dataset size: 11190\n",
      "Original data from 2019-10-01 20:18 to 2020-10-19 22:15\n",
      "Cleaned Dataset size: 11140\n",
      "Cleaned data from 2019-10-01 20:18:00 to 2020-10-19 22:15:00\n",
      "Columns: Index(['artistName', 'datetime', 'msPlayed', 'trackName', 'fullName'], dtype='object')\n"
     ]
    },
    {
     "name": "stderr",
     "output_type": "stream",
     "text": [
      "/usr/local/lib/python3.6/site-packages/pandas/core/frame.py:3781: SettingWithCopyWarning: \n",
      "A value is trying to be set on a copy of a slice from a DataFrame\n",
      "\n",
      "See the caveats in the documentation: http://pandas.pydata.org/pandas-docs/stable/indexing.html#indexing-view-versus-copy\n",
      "  return super(DataFrame, self).rename(**kwargs)\n",
      "/usr/local/lib/python3.6/site-packages/pandas/core/indexing.py:543: SettingWithCopyWarning: \n",
      "A value is trying to be set on a copy of a slice from a DataFrame.\n",
      "Try using .loc[row_indexer,col_indexer] = value instead\n",
      "\n",
      "See the caveats in the documentation: http://pandas.pydata.org/pandas-docs/stable/indexing.html#indexing-view-versus-copy\n",
      "  self.obj[item] = s\n",
      "/usr/local/lib/python3.6/site-packages/pandas/core/indexing.py:362: SettingWithCopyWarning: \n",
      "A value is trying to be set on a copy of a slice from a DataFrame.\n",
      "Try using .loc[row_indexer,col_indexer] = value instead\n",
      "\n",
      "See the caveats in the documentation: http://pandas.pydata.org/pandas-docs/stable/indexing.html#indexing-view-versus-copy\n",
      "  self.obj[key] = _infer_fill_value(value)\n"
     ]
    }
   ],
   "source": [
    "# Original data\n",
    "print(f'Original Dataset size: {len(frame)}')\n",
    "print(f\"Original data from {frame.endTime.min()} to {frame.endTime.max()}\")\n",
    "\n",
    "# Filter very short plays\n",
    "df = frame[frame['msPlayed'] > 500]\n",
    "# Convert end time to datetime\n",
    "df.rename(columns={'endTime': 'datetime'}, inplace=True)\n",
    "df.loc[:, 'datetime'] = pd.to_datetime(df.datetime, format='%Y-%m-%d %H:%M')\n",
    "df.loc[:, 'fullName'] = df.trackName + ' - ' + df.artistName\n",
    "      \n",
    "# Cleaned data\n",
    "count = len(df)\n",
    "days = (df.datetime.max() - df.datetime.min()).days\n",
    "print(f'Cleaned Dataset size: {count}')\n",
    "print(f'Cleaned data from {df.datetime.min()} to {df.datetime.max()}')\n",
    "print(f'Columns: {df.columns}')"
   ]
  },
  {
   "cell_type": "code",
   "execution_count": 4,
   "metadata": {},
   "outputs": [],
   "source": [
    "# Functions to fetch track features\n",
    "def matches(sp_track, track_name, artist):\n",
    "    return sp_track['name'] == track_name and artist in [el['name'] for el in sp_track['artists']]\n",
    "\n",
    "def get_track_uri(track_name, artist):\n",
    "    results = sp.search(q=f'{track_name} artist:{artist}', type='track')\n",
    "    if results['tracks']['items']:\n",
    "        for sp_track in results['tracks']['items']:\n",
    "            if matches(sp_track, track_name, artist):\n",
    "                return sp_track['uri']\n",
    "    return None\n",
    "\n",
    "def get_track_features(uri):\n",
    "    if uri is None:\n",
    "        return None\n",
    "    return sp.audio_features(uri)\n",
    "\n",
    "def generate_features_series(x):\n",
    "    uri = get_track_uri(x['trackName'], x['artistName'])\n",
    "    features = get_track_features(uri)\n",
    "    if features:\n",
    "        return pd.Series(\n",
    "            [uri,\n",
    "             features[0]['duration_ms'],\n",
    "             features[0]['key'],\n",
    "             features[0]['time_signature'],\n",
    "             features[0]['acousticness'],\n",
    "             features[0]['danceability'],\n",
    "             features[0]['energy'],\n",
    "             features[0]['instrumentalness'],\n",
    "             features[0]['liveness'],\n",
    "             features[0]['loudness'],\n",
    "             features[0]['speechiness'],\n",
    "             features[0]['valence'],\n",
    "             features[0]['tempo']])\n",
    "    else:\n",
    "        return pd.Series([None] * 13)"
   ]
  },
  {
   "cell_type": "code",
   "execution_count": null,
   "metadata": {},
   "outputs": [],
   "source": [
    "# Apply this to dataframe\n",
    "df[['uri',\n",
    "    'duration_ms',\n",
    "    'key',\n",
    "    'time_signature',\n",
    "    'acousticness',\n",
    "    'danceability',\n",
    "    'energy',\n",
    "    'instrumentalness',\n",
    "    'liveness',\n",
    "    'loudness',\n",
    "    'speechiness',\n",
    "    'valence',\n",
    "    'tempo']] = df.progress_apply(generate_features_series, axis=1)"
   ]
  },
  {
   "cell_type": "code",
   "execution_count": null,
   "metadata": {},
   "outputs": [],
   "source": [
    "# Save dataframe to disk, as it is quite expensive to recompute\n",
    "filename = f'MyData/data{int(time.time())}.pkl'\n",
    "df.to_pickle(filename)"
   ]
  }
 ],
 "metadata": {
  "kernelspec": {
   "display_name": "Python 3",
   "language": "python",
   "name": "python3"
  },
  "language_info": {
   "codemirror_mode": {
    "name": "ipython",
    "version": 3
   },
   "file_extension": ".py",
   "mimetype": "text/x-python",
   "name": "python",
   "nbconvert_exporter": "python",
   "pygments_lexer": "ipython3",
   "version": "3.6.5"
  }
 },
 "nbformat": 4,
 "nbformat_minor": 4
}
